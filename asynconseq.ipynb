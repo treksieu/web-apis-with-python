{
 "cells": [
  {
   "cell_type": "code",
   "execution_count": 17,
   "metadata": {},
   "outputs": [],
   "source": [
    "import aiohttp\n",
    "import time\n",
    "import asyncio\n",
    "import requests"
   ]
  },
  {
   "cell_type": "code",
   "execution_count": 36,
   "metadata": {},
   "outputs": [],
   "source": [
    "URLS= []\n",
    "#URL=\"http://127.0.0.1:8000\"\n",
    "for i in range(100):\n",
    "    URLS.append(\"http://127.0.0.1:8000\")\n",
    "#    print (URLS)\n",
    "async def test(URL):\n",
    "    async with aiohttp.ClientSession() as session:\n",
    "        async with session.post(URL) as resp:\n",
    "               return await resp.text()"
   ]
  },
  {
   "cell_type": "code",
   "execution_count": 38,
   "metadata": {},
   "outputs": [
    {
     "name": "stdout",
     "output_type": "stream",
     "text": [
      "Time: 0.16305136680603027\n"
     ]
    }
   ],
   "source": [
    "start = time.time()\n",
    "loop = asyncio.get_event_loop()\n",
    "results = await asyncio.gather(*[loop.create_task(test(URL)) for URL in URLS], return_exceptions=True)\n",
    "print(f\"Time: {time.time()-start}\")"
   ]
  },
  {
   "cell_type": "code",
   "execution_count": null,
   "metadata": {},
   "outputs": [],
   "source": []
  }
 ],
 "metadata": {
  "kernelspec": {
   "display_name": "Python 2",
   "language": "python",
   "name": "python2"
  },
  "language_info": {
   "codemirror_mode": {
    "name": "ipython",
    "version": 3
   },
   "file_extension": ".py",
   "mimetype": "text/x-python",
   "name": "python",
   "nbconvert_exporter": "python",
   "pygments_lexer": "ipython3",
   "version": "3.6.9"
  }
 },
 "nbformat": 4,
 "nbformat_minor": 2
}
