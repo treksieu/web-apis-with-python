{
 "cells": [
  {
   "cell_type": "code",
   "execution_count": null,
   "metadata": {},
   "outputs": [],
   "source": [
    "import requests\n",
    "import json\n",
    "URL =\"https://treky.herokuapp.com/\"\n",
    "response = requests.get(URL)\n",
    "response.raise_for_status\n",
    "json.loads(response.content.decode(\"utf-8\"))"
   ]
  },
  {
   "cell_type": "code",
   "execution_count": null,
   "metadata": {},
   "outputs": [],
   "source": [
    "file = {\"image\": open(\"sample.jpg\",\"rb\")}\n",
    "headers = {\"type\":\"multipart/image\"}\n",
    "filter =\"contour\"\n",
    "response = requests.post(f\"{URL}/{filter}\",headers=headers, files=file)\n",
    "response.raise_for_status\n"
   ]
  },
  {
   "cell_type": "code",
   "execution_count": null,
   "metadata": {},
   "outputs": [],
   "source": [
    "\n",
    "# Jupyter Notebook/ In[3]\n",
    "from PIL importImage\n",
    "import io\n",
    "image = Image.open(io.BytesIO(response.content))\n",
    "image.save(\"response.jpg\",\"JPEG\")\n",
    "image"
   ]
  },
  {
   "cell_type": "code",
   "execution_count": null,
   "metadata": {},
   "outputs": [],
   "source": []
  },
  {
   "cell_type": "code",
   "execution_count": null,
   "metadata": {},
   "outputs": [],
   "source": []
  }
 ],
 "metadata": {
  "kernelspec": {
   "display_name": "Python 3",
   "language": "python",
   "name": "python3"
  },
  "language_info": {
   "codemirror_mode": {
    "name": "ipython",
    "version": 3
   },
   "file_extension": ".py",
   "mimetype": "text/x-python",
   "name": "python",
   "nbconvert_exporter": "python",
   "pygments_lexer": "ipython3",
   "version": "3.6.9"
  }
 },
 "nbformat": 4,
 "nbformat_minor": 2
}
